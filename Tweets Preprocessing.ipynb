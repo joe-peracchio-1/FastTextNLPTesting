{
 "cells": [
  {
   "cell_type": "code",
   "execution_count": 5,
   "id": "fce464da",
   "metadata": {},
   "outputs": [],
   "source": [
    "import csv\n",
    "import re\n",
    "train = open('tweets.train', 'w')\n",
    "test = open('tweets.valid', 'w')\n"
   ]
  },
  {
   "cell_type": "code",
   "execution_count": 7,
   "id": "fde229e9",
   "metadata": {},
   "outputs": [],
   "source": [
    "import csv\n",
    "import re\n",
    "train = open('tweets.train', 'w')\n",
    "test = open('tweets.valid', 'w')\n",
    "\n",
    "\n",
    "with open('training.csv', mode='r') as csv_file:\n",
    "    csv_reader = csv.DictReader(csv_file, fieldnames=['target', 'id', 'date', 'flag', 'user', 'text'])\n",
    "    line = 0\n",
    "    for row in csv_reader:\n",
    " # Clean the training data\n",
    " # First we lower case the text\n",
    "         text = row[\"text\"].lower()\n",
    " # remove links\n",
    "         text = re.sub('((www\\.[^\\s]+)|(https?://[^\\s]+))','',text)\n",
    " #Remove usernames\n",
    "         text = re.sub('@[^\\s]+','', text)\n",
    " # replace hashtags by just words\n",
    "         text = re.sub(r'#([^\\s]+)', r'\\1', text)\n",
    " #correct all multiple white spaces to a single white space\n",
    "         text = re.sub('[\\s]+', ' ', text)\n",
    " # Additional clean up : removing words less than 3 chars, and remove space at the\n",
    "\n",
    "         text = re.sub(r'\\W*\\b\\w{1,3}\\b', '', text)\n",
    "         text = text.strip()\n",
    "         line = line + 1\n",
    " # Split data into train and validation\n",
    "\n",
    "         if line%16 == 0:\n",
    "             print(f'__label__{row[\"target\"]} {text}', file=test)\n",
    "         else:\n",
    "             print(f'__label__{row[\"target\"]} {text}', file=train)"
   ]
  },
  {
   "cell_type": "code",
   "execution_count": null,
   "id": "add00db0",
   "metadata": {},
   "outputs": [],
   "source": []
  }
 ],
 "metadata": {
  "kernelspec": {
   "display_name": "Python 3 (ipykernel)",
   "language": "python",
   "name": "python3"
  },
  "language_info": {
   "codemirror_mode": {
    "name": "ipython",
    "version": 3
   },
   "file_extension": ".py",
   "mimetype": "text/x-python",
   "name": "python",
   "nbconvert_exporter": "python",
   "pygments_lexer": "ipython3",
   "version": "3.9.13"
  }
 },
 "nbformat": 4,
 "nbformat_minor": 5
}
